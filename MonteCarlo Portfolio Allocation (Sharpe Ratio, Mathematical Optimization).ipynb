{
 "cells": [
  {
   "cell_type": "markdown",
   "metadata": {},
   "source": [
    "# 1. Sharpe Ratio "
   ]
  },
  {
   "cell_type": "markdown",
   "metadata": {},
   "source": [
    "- Sharpe Ratio allows us to use mathematics in order to cuantify the relationship between the Mean Daily Return and the volatility or the \n",
    "standard deviation of the daily returns\n",
    "- is a measure for calculating risk-adjusted return\n",
    "- the formula is: (Expected portf return - Risk-free return)/portf standard deviation\n",
    "- it is an yearly metric - (mean yearly return, yearly standard deviation)"
   ]
  },
  {
   "cell_type": "markdown",
   "metadata": {},
   "source": [
    "- if our data has a daily sampling rate, the annualized Sharpe Ratio is obtained by multiplying against a K-Factor based off\n",
    "our sampling rate:\n",
    "    daily : K = sqrt(252)\n",
    "    weekly : K = sqrt(52)\n",
    "    monthly : K = sqrt(12)\n",
    "- Annualized Sharpe Ratio = K * Sharpe Ratio"
   ]
  },
  {
   "cell_type": "code",
   "execution_count": 80,
   "metadata": {},
   "outputs": [],
   "source": [
    "import pandas as pd\n",
    "import numpy as np\n",
    "import quandl\n",
    "import pandas_datareader.data as wb\n",
    "import matplotlib.pyplot as plt\n",
    "%matplotlib inline\n",
    "import seaborn as sns"
   ]
  },
  {
   "cell_type": "code",
   "execution_count": 2,
   "metadata": {},
   "outputs": [],
   "source": [
    "start = pd.to_datetime('2017-01-01')\n",
    "end = pd.to_datetime('2020-01-01')"
   ]
  },
  {
   "cell_type": "code",
   "execution_count": 32,
   "metadata": {},
   "outputs": [],
   "source": [
    "aapl = pd.DataFrame(wb.DataReader('AAPL', data_source = 'yahoo', start = start, end = end)['Adj Close'])"
   ]
  },
  {
   "cell_type": "code",
   "execution_count": 33,
   "metadata": {},
   "outputs": [
    {
     "data": {
      "text/html": [
       "<div>\n",
       "<style scoped>\n",
       "    .dataframe tbody tr th:only-of-type {\n",
       "        vertical-align: middle;\n",
       "    }\n",
       "\n",
       "    .dataframe tbody tr th {\n",
       "        vertical-align: top;\n",
       "    }\n",
       "\n",
       "    .dataframe thead th {\n",
       "        text-align: right;\n",
       "    }\n",
       "</style>\n",
       "<table border=\"1\" class=\"dataframe\">\n",
       "  <thead>\n",
       "    <tr style=\"text-align: right;\">\n",
       "      <th></th>\n",
       "      <th>Adj Close</th>\n",
       "    </tr>\n",
       "    <tr>\n",
       "      <th>Date</th>\n",
       "      <th></th>\n",
       "    </tr>\n",
       "  </thead>\n",
       "  <tbody>\n",
       "    <tr>\n",
       "      <td>2017-01-03</td>\n",
       "      <td>27.548414</td>\n",
       "    </tr>\n",
       "    <tr>\n",
       "      <td>2017-01-04</td>\n",
       "      <td>27.517582</td>\n",
       "    </tr>\n",
       "    <tr>\n",
       "      <td>2017-01-05</td>\n",
       "      <td>27.657520</td>\n",
       "    </tr>\n",
       "    <tr>\n",
       "      <td>2017-01-06</td>\n",
       "      <td>27.965857</td>\n",
       "    </tr>\n",
       "    <tr>\n",
       "      <td>2017-01-09</td>\n",
       "      <td>28.222006</td>\n",
       "    </tr>\n",
       "  </tbody>\n",
       "</table>\n",
       "</div>"
      ],
      "text/plain": [
       "            Adj Close\n",
       "Date                 \n",
       "2017-01-03  27.548414\n",
       "2017-01-04  27.517582\n",
       "2017-01-05  27.657520\n",
       "2017-01-06  27.965857\n",
       "2017-01-09  28.222006"
      ]
     },
     "execution_count": 33,
     "metadata": {},
     "output_type": "execute_result"
    }
   ],
   "source": [
    "aapl.head()"
   ]
  },
  {
   "cell_type": "code",
   "execution_count": 34,
   "metadata": {},
   "outputs": [],
   "source": [
    "cisco = pd.DataFrame(wb.DataReader('CSCO', data_source = 'yahoo', start = start, end = end)['Adj Close'])"
   ]
  },
  {
   "cell_type": "code",
   "execution_count": 35,
   "metadata": {},
   "outputs": [
    {
     "data": {
      "text/html": [
       "<div>\n",
       "<style scoped>\n",
       "    .dataframe tbody tr th:only-of-type {\n",
       "        vertical-align: middle;\n",
       "    }\n",
       "\n",
       "    .dataframe tbody tr th {\n",
       "        vertical-align: top;\n",
       "    }\n",
       "\n",
       "    .dataframe thead th {\n",
       "        text-align: right;\n",
       "    }\n",
       "</style>\n",
       "<table border=\"1\" class=\"dataframe\">\n",
       "  <thead>\n",
       "    <tr style=\"text-align: right;\">\n",
       "      <th></th>\n",
       "      <th>Adj Close</th>\n",
       "    </tr>\n",
       "    <tr>\n",
       "      <th>Date</th>\n",
       "      <th></th>\n",
       "    </tr>\n",
       "  </thead>\n",
       "  <tbody>\n",
       "    <tr>\n",
       "      <td>2017-01-03</td>\n",
       "      <td>27.153379</td>\n",
       "    </tr>\n",
       "    <tr>\n",
       "      <td>2017-01-04</td>\n",
       "      <td>26.991968</td>\n",
       "    </tr>\n",
       "    <tr>\n",
       "      <td>2017-01-05</td>\n",
       "      <td>27.054739</td>\n",
       "    </tr>\n",
       "    <tr>\n",
       "      <td>2017-01-06</td>\n",
       "      <td>27.108545</td>\n",
       "    </tr>\n",
       "    <tr>\n",
       "      <td>2017-01-09</td>\n",
       "      <td>27.063707</td>\n",
       "    </tr>\n",
       "  </tbody>\n",
       "</table>\n",
       "</div>"
      ],
      "text/plain": [
       "            Adj Close\n",
       "Date                 \n",
       "2017-01-03  27.153379\n",
       "2017-01-04  26.991968\n",
       "2017-01-05  27.054739\n",
       "2017-01-06  27.108545\n",
       "2017-01-09  27.063707"
      ]
     },
     "execution_count": 35,
     "metadata": {},
     "output_type": "execute_result"
    }
   ],
   "source": [
    "cisco.head()"
   ]
  },
  {
   "cell_type": "code",
   "execution_count": 36,
   "metadata": {},
   "outputs": [
    {
     "data": {
      "text/plain": [
       "27.153379440307617"
      ]
     },
     "execution_count": 36,
     "metadata": {},
     "output_type": "execute_result"
    }
   ],
   "source": [
    "cisco.iloc[0]['Adj Close']"
   ]
  },
  {
   "cell_type": "code",
   "execution_count": 37,
   "metadata": {},
   "outputs": [],
   "source": [
    "ibm = pd.DataFrame(wb.DataReader('IBM', data_source = 'yahoo', start = start, end = end)['Adj Close'])"
   ]
  },
  {
   "cell_type": "code",
   "execution_count": 38,
   "metadata": {},
   "outputs": [],
   "source": [
    "amzn = pd.DataFrame(wb.DataReader('AMZN', data_source = 'yahoo', start = start, end = end)['Adj Close'])"
   ]
  },
  {
   "cell_type": "markdown",
   "metadata": {},
   "source": [
    "# Normalize Prices"
   ]
  },
  {
   "cell_type": "markdown",
   "metadata": {},
   "source": [
    " - This is the same as cumulative daily returns -> each Adjusted Price divided by the first one"
   ]
  },
  {
   "cell_type": "code",
   "execution_count": 39,
   "metadata": {},
   "outputs": [],
   "source": [
    "for stock in (aapl,cisco,ibm,amzn):\n",
    "    stock['Normed Return'] = stock['Adj Close'] / stock.iloc[0]['Adj Close']"
   ]
  },
  {
   "cell_type": "code",
   "execution_count": 40,
   "metadata": {},
   "outputs": [
    {
     "data": {
      "text/html": [
       "<div>\n",
       "<style scoped>\n",
       "    .dataframe tbody tr th:only-of-type {\n",
       "        vertical-align: middle;\n",
       "    }\n",
       "\n",
       "    .dataframe tbody tr th {\n",
       "        vertical-align: top;\n",
       "    }\n",
       "\n",
       "    .dataframe thead th {\n",
       "        text-align: right;\n",
       "    }\n",
       "</style>\n",
       "<table border=\"1\" class=\"dataframe\">\n",
       "  <thead>\n",
       "    <tr style=\"text-align: right;\">\n",
       "      <th></th>\n",
       "      <th>Adj Close</th>\n",
       "      <th>Normed Return</th>\n",
       "    </tr>\n",
       "    <tr>\n",
       "      <th>Date</th>\n",
       "      <th></th>\n",
       "      <th></th>\n",
       "    </tr>\n",
       "  </thead>\n",
       "  <tbody>\n",
       "    <tr>\n",
       "      <td>2017-01-03</td>\n",
       "      <td>27.153379</td>\n",
       "      <td>1.000000</td>\n",
       "    </tr>\n",
       "    <tr>\n",
       "      <td>2017-01-04</td>\n",
       "      <td>26.991968</td>\n",
       "      <td>0.994056</td>\n",
       "    </tr>\n",
       "    <tr>\n",
       "      <td>2017-01-05</td>\n",
       "      <td>27.054739</td>\n",
       "      <td>0.996367</td>\n",
       "    </tr>\n",
       "    <tr>\n",
       "      <td>2017-01-06</td>\n",
       "      <td>27.108545</td>\n",
       "      <td>0.998349</td>\n",
       "    </tr>\n",
       "    <tr>\n",
       "      <td>2017-01-09</td>\n",
       "      <td>27.063707</td>\n",
       "      <td>0.996698</td>\n",
       "    </tr>\n",
       "  </tbody>\n",
       "</table>\n",
       "</div>"
      ],
      "text/plain": [
       "            Adj Close  Normed Return\n",
       "Date                                \n",
       "2017-01-03  27.153379       1.000000\n",
       "2017-01-04  26.991968       0.994056\n",
       "2017-01-05  27.054739       0.996367\n",
       "2017-01-06  27.108545       0.998349\n",
       "2017-01-09  27.063707       0.996698"
      ]
     },
     "execution_count": 40,
     "metadata": {},
     "output_type": "execute_result"
    }
   ],
   "source": [
    "cisco.head()"
   ]
  },
  {
   "cell_type": "markdown",
   "metadata": {},
   "source": [
    "# Allocations (Normed Return * Allocation)"
   ]
  },
  {
   "cell_type": "markdown",
   "metadata": {},
   "source": [
    "Let's pretend we had the following allocations for our total portfolio:\n",
    "\n",
    "- 30% in Apple\n",
    "- 20% in Google/Alphabet\n",
    "- 40% in Amazon\n",
    "- 10% in IBM\n",
    "- Let's have these values be reflected by multiplying our Norme Return by our Allocations"
   ]
  },
  {
   "cell_type": "code",
   "execution_count": 41,
   "metadata": {},
   "outputs": [],
   "source": [
    "for stock, alloc in zip([aapl,cisco,amzn,ibm],[.3,.2,.4,.1]):\n",
    "    stock['Allocation'] = stock['Normed Return'] * alloc"
   ]
  },
  {
   "cell_type": "code",
   "execution_count": 42,
   "metadata": {},
   "outputs": [
    {
     "data": {
      "text/html": [
       "<div>\n",
       "<style scoped>\n",
       "    .dataframe tbody tr th:only-of-type {\n",
       "        vertical-align: middle;\n",
       "    }\n",
       "\n",
       "    .dataframe tbody tr th {\n",
       "        vertical-align: top;\n",
       "    }\n",
       "\n",
       "    .dataframe thead th {\n",
       "        text-align: right;\n",
       "    }\n",
       "</style>\n",
       "<table border=\"1\" class=\"dataframe\">\n",
       "  <thead>\n",
       "    <tr style=\"text-align: right;\">\n",
       "      <th></th>\n",
       "      <th>Adj Close</th>\n",
       "      <th>Normed Return</th>\n",
       "      <th>Allocation</th>\n",
       "    </tr>\n",
       "    <tr>\n",
       "      <th>Date</th>\n",
       "      <th></th>\n",
       "      <th></th>\n",
       "      <th></th>\n",
       "    </tr>\n",
       "  </thead>\n",
       "  <tbody>\n",
       "    <tr>\n",
       "      <td>2017-01-03</td>\n",
       "      <td>27.548414</td>\n",
       "      <td>1.000000</td>\n",
       "      <td>0.300000</td>\n",
       "    </tr>\n",
       "    <tr>\n",
       "      <td>2017-01-04</td>\n",
       "      <td>27.517582</td>\n",
       "      <td>0.998881</td>\n",
       "      <td>0.299664</td>\n",
       "    </tr>\n",
       "    <tr>\n",
       "      <td>2017-01-05</td>\n",
       "      <td>27.657520</td>\n",
       "      <td>1.003961</td>\n",
       "      <td>0.301188</td>\n",
       "    </tr>\n",
       "    <tr>\n",
       "      <td>2017-01-06</td>\n",
       "      <td>27.965857</td>\n",
       "      <td>1.015153</td>\n",
       "      <td>0.304546</td>\n",
       "    </tr>\n",
       "    <tr>\n",
       "      <td>2017-01-09</td>\n",
       "      <td>28.222006</td>\n",
       "      <td>1.024451</td>\n",
       "      <td>0.307335</td>\n",
       "    </tr>\n",
       "  </tbody>\n",
       "</table>\n",
       "</div>"
      ],
      "text/plain": [
       "            Adj Close  Normed Return  Allocation\n",
       "Date                                            \n",
       "2017-01-03  27.548414       1.000000    0.300000\n",
       "2017-01-04  27.517582       0.998881    0.299664\n",
       "2017-01-05  27.657520       1.003961    0.301188\n",
       "2017-01-06  27.965857       1.015153    0.304546\n",
       "2017-01-09  28.222006       1.024451    0.307335"
      ]
     },
     "execution_count": 42,
     "metadata": {},
     "output_type": "execute_result"
    }
   ],
   "source": [
    "aapl.head()"
   ]
  },
  {
   "cell_type": "markdown",
   "metadata": {},
   "source": [
    "# Investment (Allocations * 1000000)"
   ]
  },
  {
   "cell_type": "markdown",
   "metadata": {},
   "source": [
    "Let's pretend we invested a million dollars in this portfolio"
   ]
  },
  {
   "cell_type": "code",
   "execution_count": 43,
   "metadata": {},
   "outputs": [],
   "source": [
    "for stock in [aapl,cisco,amzn,ibm]:\n",
    "    stock['Position Values'] = stock['Allocation'] * 1000000"
   ]
  },
  {
   "cell_type": "code",
   "execution_count": 44,
   "metadata": {},
   "outputs": [
    {
     "data": {
      "text/html": [
       "<div>\n",
       "<style scoped>\n",
       "    .dataframe tbody tr th:only-of-type {\n",
       "        vertical-align: middle;\n",
       "    }\n",
       "\n",
       "    .dataframe tbody tr th {\n",
       "        vertical-align: top;\n",
       "    }\n",
       "\n",
       "    .dataframe thead th {\n",
       "        text-align: right;\n",
       "    }\n",
       "</style>\n",
       "<table border=\"1\" class=\"dataframe\">\n",
       "  <thead>\n",
       "    <tr style=\"text-align: right;\">\n",
       "      <th></th>\n",
       "      <th>Adj Close</th>\n",
       "      <th>Normed Return</th>\n",
       "      <th>Allocation</th>\n",
       "      <th>Position Values</th>\n",
       "    </tr>\n",
       "    <tr>\n",
       "      <th>Date</th>\n",
       "      <th></th>\n",
       "      <th></th>\n",
       "      <th></th>\n",
       "      <th></th>\n",
       "    </tr>\n",
       "  </thead>\n",
       "  <tbody>\n",
       "    <tr>\n",
       "      <td>2017-01-03</td>\n",
       "      <td>27.548414</td>\n",
       "      <td>1.000000</td>\n",
       "      <td>0.300000</td>\n",
       "      <td>300000.000000</td>\n",
       "    </tr>\n",
       "    <tr>\n",
       "      <td>2017-01-04</td>\n",
       "      <td>27.517582</td>\n",
       "      <td>0.998881</td>\n",
       "      <td>0.299664</td>\n",
       "      <td>299664.238852</td>\n",
       "    </tr>\n",
       "    <tr>\n",
       "      <td>2017-01-05</td>\n",
       "      <td>27.657520</td>\n",
       "      <td>1.003961</td>\n",
       "      <td>0.301188</td>\n",
       "      <td>301188.156199</td>\n",
       "    </tr>\n",
       "    <tr>\n",
       "      <td>2017-01-06</td>\n",
       "      <td>27.965857</td>\n",
       "      <td>1.015153</td>\n",
       "      <td>0.304546</td>\n",
       "      <td>304545.913078</td>\n",
       "    </tr>\n",
       "    <tr>\n",
       "      <td>2017-01-09</td>\n",
       "      <td>28.222006</td>\n",
       "      <td>1.024451</td>\n",
       "      <td>0.307335</td>\n",
       "      <td>307335.358124</td>\n",
       "    </tr>\n",
       "  </tbody>\n",
       "</table>\n",
       "</div>"
      ],
      "text/plain": [
       "            Adj Close  Normed Return  Allocation  Position Values\n",
       "Date                                                             \n",
       "2017-01-03  27.548414       1.000000    0.300000    300000.000000\n",
       "2017-01-04  27.517582       0.998881    0.299664    299664.238852\n",
       "2017-01-05  27.657520       1.003961    0.301188    301188.156199\n",
       "2017-01-06  27.965857       1.015153    0.304546    304545.913078\n",
       "2017-01-09  28.222006       1.024451    0.307335    307335.358124"
      ]
     },
     "execution_count": 44,
     "metadata": {},
     "output_type": "execute_result"
    }
   ],
   "source": [
    "aapl.head()"
   ]
  },
  {
   "cell_type": "markdown",
   "metadata": {},
   "source": [
    "# Total Portfolio Value"
   ]
  },
  {
   "cell_type": "code",
   "execution_count": 45,
   "metadata": {},
   "outputs": [],
   "source": [
    "portf_value = pd.concat([aapl['Position Values'],cisco['Position Values'],ibm['Position Values'],amzn['Position Values']], axis=1)"
   ]
  },
  {
   "cell_type": "code",
   "execution_count": 47,
   "metadata": {},
   "outputs": [],
   "source": [
    "portf_value.columns = ['AAPL Position','CISCO Position','IBM Position','AMZN Position']"
   ]
  },
  {
   "cell_type": "code",
   "execution_count": 48,
   "metadata": {},
   "outputs": [
    {
     "data": {
      "text/html": [
       "<div>\n",
       "<style scoped>\n",
       "    .dataframe tbody tr th:only-of-type {\n",
       "        vertical-align: middle;\n",
       "    }\n",
       "\n",
       "    .dataframe tbody tr th {\n",
       "        vertical-align: top;\n",
       "    }\n",
       "\n",
       "    .dataframe thead th {\n",
       "        text-align: right;\n",
       "    }\n",
       "</style>\n",
       "<table border=\"1\" class=\"dataframe\">\n",
       "  <thead>\n",
       "    <tr style=\"text-align: right;\">\n",
       "      <th></th>\n",
       "      <th>AAPL Position</th>\n",
       "      <th>CISCO Position</th>\n",
       "      <th>IBM Position</th>\n",
       "      <th>AMZN Position</th>\n",
       "    </tr>\n",
       "    <tr>\n",
       "      <th>Date</th>\n",
       "      <th></th>\n",
       "      <th></th>\n",
       "      <th></th>\n",
       "      <th></th>\n",
       "    </tr>\n",
       "  </thead>\n",
       "  <tbody>\n",
       "    <tr>\n",
       "      <td>2017-01-03</td>\n",
       "      <td>300000.000000</td>\n",
       "      <td>200000.000000</td>\n",
       "      <td>100000.000000</td>\n",
       "      <td>400000.000000</td>\n",
       "    </tr>\n",
       "    <tr>\n",
       "      <td>2017-01-04</td>\n",
       "      <td>299664.238852</td>\n",
       "      <td>198811.114574</td>\n",
       "      <td>101238.089246</td>\n",
       "      <td>401862.889511</td>\n",
       "    </tr>\n",
       "    <tr>\n",
       "      <td>2017-01-05</td>\n",
       "      <td>301188.156199</td>\n",
       "      <td>199273.457345</td>\n",
       "      <td>100903.153161</td>\n",
       "      <td>414213.133018</td>\n",
       "    </tr>\n",
       "    <tr>\n",
       "      <td>2017-01-06</td>\n",
       "      <td>304545.913078</td>\n",
       "      <td>199669.771219</td>\n",
       "      <td>101399.599757</td>\n",
       "      <td>422460.763084</td>\n",
       "    </tr>\n",
       "    <tr>\n",
       "      <td>2017-01-09</td>\n",
       "      <td>307335.358124</td>\n",
       "      <td>199339.514341</td>\n",
       "      <td>100275.123762</td>\n",
       "      <td>422954.343933</td>\n",
       "    </tr>\n",
       "  </tbody>\n",
       "</table>\n",
       "</div>"
      ],
      "text/plain": [
       "            AAPL Position  CISCO Position   IBM Position  AMZN Position\n",
       "Date                                                                   \n",
       "2017-01-03  300000.000000   200000.000000  100000.000000  400000.000000\n",
       "2017-01-04  299664.238852   198811.114574  101238.089246  401862.889511\n",
       "2017-01-05  301188.156199   199273.457345  100903.153161  414213.133018\n",
       "2017-01-06  304545.913078   199669.771219  101399.599757  422460.763084\n",
       "2017-01-09  307335.358124   199339.514341  100275.123762  422954.343933"
      ]
     },
     "execution_count": 48,
     "metadata": {},
     "output_type": "execute_result"
    }
   ],
   "source": [
    "portf_value.head()"
   ]
  },
  {
   "cell_type": "code",
   "execution_count": 51,
   "metadata": {},
   "outputs": [],
   "source": [
    "portf_value['Total position'] = portf_value.sum(axis = 1)"
   ]
  },
  {
   "cell_type": "code",
   "execution_count": 52,
   "metadata": {},
   "outputs": [
    {
     "data": {
      "text/html": [
       "<div>\n",
       "<style scoped>\n",
       "    .dataframe tbody tr th:only-of-type {\n",
       "        vertical-align: middle;\n",
       "    }\n",
       "\n",
       "    .dataframe tbody tr th {\n",
       "        vertical-align: top;\n",
       "    }\n",
       "\n",
       "    .dataframe thead th {\n",
       "        text-align: right;\n",
       "    }\n",
       "</style>\n",
       "<table border=\"1\" class=\"dataframe\">\n",
       "  <thead>\n",
       "    <tr style=\"text-align: right;\">\n",
       "      <th></th>\n",
       "      <th>AAPL Position</th>\n",
       "      <th>CISCO Position</th>\n",
       "      <th>IBM Position</th>\n",
       "      <th>AMZN Position</th>\n",
       "      <th>Total position</th>\n",
       "    </tr>\n",
       "    <tr>\n",
       "      <th>Date</th>\n",
       "      <th></th>\n",
       "      <th></th>\n",
       "      <th></th>\n",
       "      <th></th>\n",
       "      <th></th>\n",
       "    </tr>\n",
       "  </thead>\n",
       "  <tbody>\n",
       "    <tr>\n",
       "      <td>2017-01-03</td>\n",
       "      <td>300000.000000</td>\n",
       "      <td>200000.000000</td>\n",
       "      <td>100000.000000</td>\n",
       "      <td>400000.000000</td>\n",
       "      <td>1.000000e+06</td>\n",
       "    </tr>\n",
       "    <tr>\n",
       "      <td>2017-01-04</td>\n",
       "      <td>299664.238852</td>\n",
       "      <td>198811.114574</td>\n",
       "      <td>101238.089246</td>\n",
       "      <td>401862.889511</td>\n",
       "      <td>1.001576e+06</td>\n",
       "    </tr>\n",
       "    <tr>\n",
       "      <td>2017-01-05</td>\n",
       "      <td>301188.156199</td>\n",
       "      <td>199273.457345</td>\n",
       "      <td>100903.153161</td>\n",
       "      <td>414213.133018</td>\n",
       "      <td>1.015578e+06</td>\n",
       "    </tr>\n",
       "    <tr>\n",
       "      <td>2017-01-06</td>\n",
       "      <td>304545.913078</td>\n",
       "      <td>199669.771219</td>\n",
       "      <td>101399.599757</td>\n",
       "      <td>422460.763084</td>\n",
       "      <td>1.028076e+06</td>\n",
       "    </tr>\n",
       "    <tr>\n",
       "      <td>2017-01-09</td>\n",
       "      <td>307335.358124</td>\n",
       "      <td>199339.514341</td>\n",
       "      <td>100275.123762</td>\n",
       "      <td>422954.343933</td>\n",
       "      <td>1.029904e+06</td>\n",
       "    </tr>\n",
       "  </tbody>\n",
       "</table>\n",
       "</div>"
      ],
      "text/plain": [
       "            AAPL Position  CISCO Position   IBM Position  AMZN Position  \\\n",
       "Date                                                                      \n",
       "2017-01-03  300000.000000   200000.000000  100000.000000  400000.000000   \n",
       "2017-01-04  299664.238852   198811.114574  101238.089246  401862.889511   \n",
       "2017-01-05  301188.156199   199273.457345  100903.153161  414213.133018   \n",
       "2017-01-06  304545.913078   199669.771219  101399.599757  422460.763084   \n",
       "2017-01-09  307335.358124   199339.514341  100275.123762  422954.343933   \n",
       "\n",
       "            Total position  \n",
       "Date                        \n",
       "2017-01-03    1.000000e+06  \n",
       "2017-01-04    1.001576e+06  \n",
       "2017-01-05    1.015578e+06  \n",
       "2017-01-06    1.028076e+06  \n",
       "2017-01-09    1.029904e+06  "
      ]
     },
     "execution_count": 52,
     "metadata": {},
     "output_type": "execute_result"
    }
   ],
   "source": [
    "portf_value.head()"
   ]
  },
  {
   "cell_type": "code",
   "execution_count": 55,
   "metadata": {},
   "outputs": [
    {
     "data": {
      "text/plain": [
       "<matplotlib.axes._subplots.AxesSubplot at 0x223bfb50488>"
      ]
     },
     "execution_count": 55,
     "metadata": {},
     "output_type": "execute_result"
    },
    {
     "data": {
      "image/png": "[encoded data removed]",
      "text/plain": [
       "<Figure size 864x432 with 1 Axes>"
      ]
     },
     "metadata": {
      "needs_background": "light"
     },
     "output_type": "display_data"
    }
   ],
   "source": [
    "portf_value['Total position'].plot(figsize = (12,6), title = 'Total portfolio value')"
   ]
  },
  {
   "cell_type": "code",
   "execution_count": 56,
   "metadata": {},
   "outputs": [
    {
     "data": {
      "text/plain": [
       "<matplotlib.axes._subplots.AxesSubplot at 0x223bf9bc988>"
      ]
     },
     "execution_count": 56,
     "metadata": {},
     "output_type": "execute_result"
    },
    {
     "data": {
      "image/png": "[encoded data removed]",
      "text/plain": [
       "<Figure size 720x576 with 1 Axes>"
      ]
     },
     "metadata": {
      "needs_background": "light"
     },
     "output_type": "display_data"
    }
   ],
   "source": [
    "portf_value.drop('Total position', axis = 1).plot(figsize = (10,8))"
   ]
  },
  {
   "cell_type": "markdown",
   "metadata": {},
   "source": [
    "# Portfolio Statistics"
   ]
  },
  {
   "cell_type": "markdown",
   "metadata": {},
   "source": [
    "# Daily Returns"
   ]
  },
  {
   "cell_type": "code",
   "execution_count": 57,
   "metadata": {},
   "outputs": [],
   "source": [
    "portf_value['Daily Return'] = portf_value['Total position'].pct_change(1)"
   ]
  },
  {
   "cell_type": "code",
   "execution_count": 60,
   "metadata": {},
   "outputs": [
    {
     "data": {
      "text/html": [
       "<div>\n",
       "<style scoped>\n",
       "    .dataframe tbody tr th:only-of-type {\n",
       "        vertical-align: middle;\n",
       "    }\n",
       "\n",
       "    .dataframe tbody tr th {\n",
       "        vertical-align: top;\n",
       "    }\n",
       "\n",
       "    .dataframe thead th {\n",
       "        text-align: right;\n",
       "    }\n",
       "</style>\n",
       "<table border=\"1\" class=\"dataframe\">\n",
       "  <thead>\n",
       "    <tr style=\"text-align: right;\">\n",
       "      <th></th>\n",
       "      <th>AAPL Position</th>\n",
       "      <th>CISCO Position</th>\n",
       "      <th>IBM Position</th>\n",
       "      <th>AMZN Position</th>\n",
       "      <th>Total position</th>\n",
       "      <th>Daily Return</th>\n",
       "    </tr>\n",
       "    <tr>\n",
       "      <th>Date</th>\n",
       "      <th></th>\n",
       "      <th></th>\n",
       "      <th></th>\n",
       "      <th></th>\n",
       "      <th></th>\n",
       "      <th></th>\n",
       "    </tr>\n",
       "  </thead>\n",
       "  <tbody>\n",
       "    <tr>\n",
       "      <td>2019-12-24</td>\n",
       "      <td>768616.652299</td>\n",
       "      <td>343372.296705</td>\n",
       "      <td>91863.692541</td>\n",
       "      <td>949598.631501</td>\n",
       "      <td>2.153451e+06</td>\n",
       "      <td>-0.001840</td>\n",
       "    </tr>\n",
       "    <tr>\n",
       "      <td>2019-12-26</td>\n",
       "      <td>783866.294296</td>\n",
       "      <td>343875.380711</td>\n",
       "      <td>91816.064608</td>\n",
       "      <td>991824.040711</td>\n",
       "      <td>2.211382e+06</td>\n",
       "      <td>0.026901</td>\n",
       "    </tr>\n",
       "    <tr>\n",
       "      <td>2019-12-27</td>\n",
       "      <td>783568.855407</td>\n",
       "      <td>343300.479742</td>\n",
       "      <td>92061.066745</td>\n",
       "      <td>992370.714624</td>\n",
       "      <td>2.211301e+06</td>\n",
       "      <td>-0.000036</td>\n",
       "    </tr>\n",
       "    <tr>\n",
       "      <td>2019-12-30</td>\n",
       "      <td>788219.453680</td>\n",
       "      <td>342006.875294</td>\n",
       "      <td>90386.860336</td>\n",
       "      <td>980211.528402</td>\n",
       "      <td>2.200825e+06</td>\n",
       "      <td>-0.004738</td>\n",
       "    </tr>\n",
       "    <tr>\n",
       "      <td>2019-12-31</td>\n",
       "      <td>793978.551859</td>\n",
       "      <td>344665.901153</td>\n",
       "      <td>91223.952767</td>\n",
       "      <td>980715.701950</td>\n",
       "      <td>2.210584e+06</td>\n",
       "      <td>0.004434</td>\n",
       "    </tr>\n",
       "  </tbody>\n",
       "</table>\n",
       "</div>"
      ],
      "text/plain": [
       "            AAPL Position  CISCO Position  IBM Position  AMZN Position  \\\n",
       "Date                                                                     \n",
       "2019-12-24  768616.652299   343372.296705  91863.692541  949598.631501   \n",
       "2019-12-26  783866.294296   343875.380711  91816.064608  991824.040711   \n",
       "2019-12-27  783568.855407   343300.479742  92061.066745  992370.714624   \n",
       "2019-12-30  788219.453680   342006.875294  90386.860336  980211.528402   \n",
       "2019-12-31  793978.551859   344665.901153  91223.952767  980715.701950   \n",
       "\n",
       "            Total position  Daily Return  \n",
       "Date                                      \n",
       "2019-12-24    2.153451e+06     -0.001840  \n",
       "2019-12-26    2.211382e+06      0.026901  \n",
       "2019-12-27    2.211301e+06     -0.000036  \n",
       "2019-12-30    2.200825e+06     -0.004738  \n",
       "2019-12-31    2.210584e+06      0.004434  "
      ]
     },
     "execution_count": 60,
     "metadata": {},
     "output_type": "execute_result"
    }
   ],
   "source": [
    "portf_value.tail()"
   ]
  },
  {
   "cell_type": "markdown",
   "metadata": {},
   "source": [
    "# Cumulative Return"
   ]
  },
  {
   "cell_type": "code",
   "execution_count": 62,
   "metadata": {},
   "outputs": [
    {
     "data": {
      "text/plain": [
       "121.05841077287502"
      ]
     },
     "execution_count": 62,
     "metadata": {},
     "output_type": "execute_result"
    }
   ],
   "source": [
    "cum_return = (portf_value['Total position'][-1]/portf_value['Total position'][0] - 1)*100\n",
    "cum_return"
   ]
  },
  {
   "cell_type": "code",
   "execution_count": 63,
   "metadata": {},
   "outputs": [
    {
     "name": "stdout",
     "output_type": "stream",
     "text": [
      "Our cumulative return is 121.05841077287502\n"
     ]
    }
   ],
   "source": [
    "print(\"Our cumulative return is %s\" % cum_return)"
   ]
  },
  {
   "cell_type": "markdown",
   "metadata": {},
   "source": [
    "# Avg Daily Return"
   ]
  },
  {
   "cell_type": "code",
   "execution_count": 64,
   "metadata": {},
   "outputs": [
    {
     "data": {
      "text/plain": [
       "0.001144929999763692"
      ]
     },
     "execution_count": 64,
     "metadata": {},
     "output_type": "execute_result"
    }
   ],
   "source": [
    "portf_value['Daily Return'].mean()"
   ]
  },
  {
   "cell_type": "code",
   "execution_count": 65,
   "metadata": {},
   "outputs": [
    {
     "name": "stdout",
     "output_type": "stream",
     "text": [
      "Our average daily return is 0.001144929999763692\n"
     ]
    }
   ],
   "source": [
    "print(\"Our average daily return is %s\" % (portf_value['Daily Return'].mean()))"
   ]
  },
  {
   "cell_type": "markdown",
   "metadata": {},
   "source": [
    "# Std Daily Return"
   ]
  },
  {
   "cell_type": "code",
   "execution_count": 66,
   "metadata": {},
   "outputs": [
    {
     "data": {
      "text/plain": [
       "0.013491856858322732"
      ]
     },
     "execution_count": 66,
     "metadata": {},
     "output_type": "execute_result"
    }
   ],
   "source": [
    "portf_value['Daily Return'].std()"
   ]
  },
  {
   "cell_type": "code",
   "execution_count": 68,
   "metadata": {},
   "outputs": [
    {
     "data": {
      "text/plain": [
       "<matplotlib.axes._subplots.AxesSubplot at 0x223bfa46c48>"
      ]
     },
     "execution_count": 68,
     "metadata": {},
     "output_type": "execute_result"
    },
    {
     "data": {
      "image/png": "[encoded data removed]",
      "text/plain": [
       "<Figure size 432x288 with 1 Axes>"
      ]
     },
     "metadata": {
      "needs_background": "light"
     },
     "output_type": "display_data"
    }
   ],
   "source": [
    "portf_value['Daily Return'].plot(kind = 'kde')"
   ]
  },
  {
   "cell_type": "code",
   "execution_count": 70,
   "metadata": {},
   "outputs": [
    {
     "name": "stderr",
     "output_type": "stream",
     "text": [
      "C:\\Users\\mariu\\Anaconda3\\lib\\site-packages\\statsmodels\\nonparametric\\kde.py:447: RuntimeWarning: invalid value encountered in greater\n",
      "  X = X[np.logical_and(X > clip[0], X < clip[1])] # won't work for two columns.\n",
      "C:\\Users\\mariu\\Anaconda3\\lib\\site-packages\\statsmodels\\nonparametric\\kde.py:447: RuntimeWarning: invalid value encountered in less\n",
      "  X = X[np.logical_and(X > clip[0], X < clip[1])] # won't work for two columns.\n"
     ]
    },
    {
     "data": {
      "text/plain": [
       "<matplotlib.axes._subplots.AxesSubplot at 0x223c1d2d2c8>"
      ]
     },
     "execution_count": 70,
     "metadata": {},
     "output_type": "execute_result"
    },
    {
     "data": {
      "image/png": "[encoded data removed]",
      "text/plain": [
       "<Figure size 432x288 with 1 Axes>"
      ]
     },
     "metadata": {
      "needs_background": "light"
     },
     "output_type": "display_data"
    }
   ],
   "source": [
    "sns.kdeplot(portf_value['Daily Return'])"
   ]
  },
  {
   "cell_type": "markdown",
   "metadata": {},
   "source": [
    "# Sharpe Ratio"
   ]
  },
  {
   "cell_type": "markdown",
   "metadata": {},
   "source": [
    "- SR > 1 is considered acceptable to good, depending on the risk tolerance\n",
    "- SR > 2 is considered good\n",
    "- SR > 3 is considered excellent\n",
    "- SR allows us to see how much greater a return is obtained in relation to the aditional risk taken to generate that return"
   ]
  },
  {
   "cell_type": "code",
   "execution_count": 71,
   "metadata": {},
   "outputs": [
    {
     "data": {
      "text/plain": [
       "0.08486081729049906"
      ]
     },
     "execution_count": 71,
     "metadata": {},
     "output_type": "execute_result"
    }
   ],
   "source": [
    "SR = portf_value['Daily Return'].mean() / portf_value['Daily Return'].std()\n",
    "SR"
   ]
  },
  {
   "cell_type": "code",
   "execution_count": 72,
   "metadata": {},
   "outputs": [
    {
     "data": {
      "text/plain": [
       "1.3471237116261034"
      ]
     },
     "execution_count": 72,
     "metadata": {},
     "output_type": "execute_result"
    }
   ],
   "source": [
    "Annual_SR = SR * (252 ** 0.5)\n",
    "Annual_SR"
   ]
  },
  {
   "cell_type": "markdown",
   "metadata": {},
   "source": [
    "# 2. Portfolio optimization"
   ]
  },
  {
   "cell_type": "markdown",
   "metadata": {},
   "source": [
    "- randomly guessing and checking -> MonteCarlo simulation\n",
    "- randomly aasign a weight to each security, then calculate its mean daily return and std dev of daily return\n",
    "- calculate Sharpe Ratio for all randomly selected allocations\n",
    "- plot the allocations, showing return (y axis) vs volatility (x axis), colored by Sharpe Ratio\n",
    "- look for the allocation with the best Sharpe Ratio "
   ]
  },
  {
   "cell_type": "markdown",
   "metadata": {},
   "source": [
    "- as guessing and checking is not very efficient => use math to find out the best SR for any portfolio\n",
    "- Optimization Algorithm -> we need to understand minimization\n",
    "- if we have 2 equations: y = x * x and y = (2-x)(2-x)  -> what value of x will minimize y: 0, respectively 2\n",
    "- using a minimizer allows us to build an optimizer \n",
    "- use scipy"
   ]
  },
  {
   "cell_type": "markdown",
   "metadata": {},
   "source": [
    "- so, we want to maximize the SR -> we can create an OPTIMIZER, in order to minimize the negative SR\n",
    "- use SCIPY buitin optimization algorithms to calculate the optimal weight allocation for the portfolio"
   ]
  },
  {
   "cell_type": "markdown",
   "metadata": {},
   "source": [
    "# 2.1 Monte Carlo Simulation for Optimization Search"
   ]
  },
  {
   "cell_type": "code",
   "execution_count": 73,
   "metadata": {},
   "outputs": [
    {
     "data": {
      "text/html": [
       "<div>\n",
       "<style scoped>\n",
       "    .dataframe tbody tr th:only-of-type {\n",
       "        vertical-align: middle;\n",
       "    }\n",
       "\n",
       "    .dataframe tbody tr th {\n",
       "        vertical-align: top;\n",
       "    }\n",
       "\n",
       "    .dataframe thead th {\n",
       "        text-align: right;\n",
       "    }\n",
       "</style>\n",
       "<table border=\"1\" class=\"dataframe\">\n",
       "  <thead>\n",
       "    <tr style=\"text-align: right;\">\n",
       "      <th></th>\n",
       "      <th>AAPL</th>\n",
       "      <th>IBM</th>\n",
       "      <th>AMZN</th>\n",
       "      <th>CSCO</th>\n",
       "    </tr>\n",
       "    <tr>\n",
       "      <th>Date</th>\n",
       "      <th></th>\n",
       "      <th></th>\n",
       "      <th></th>\n",
       "      <th></th>\n",
       "    </tr>\n",
       "  </thead>\n",
       "  <tbody>\n",
       "    <tr>\n",
       "      <td>2017-01-03</td>\n",
       "      <td>27.548414</td>\n",
       "      <td>141.637695</td>\n",
       "      <td>753.669983</td>\n",
       "      <td>27.153379</td>\n",
       "    </tr>\n",
       "    <tr>\n",
       "      <td>2017-01-04</td>\n",
       "      <td>27.517582</td>\n",
       "      <td>143.391296</td>\n",
       "      <td>757.179993</td>\n",
       "      <td>26.991968</td>\n",
       "    </tr>\n",
       "    <tr>\n",
       "      <td>2017-01-05</td>\n",
       "      <td>27.657520</td>\n",
       "      <td>142.916901</td>\n",
       "      <td>780.450012</td>\n",
       "      <td>27.054739</td>\n",
       "    </tr>\n",
       "    <tr>\n",
       "      <td>2017-01-06</td>\n",
       "      <td>27.965857</td>\n",
       "      <td>143.620056</td>\n",
       "      <td>795.989990</td>\n",
       "      <td>27.108545</td>\n",
       "    </tr>\n",
       "    <tr>\n",
       "      <td>2017-01-09</td>\n",
       "      <td>28.222006</td>\n",
       "      <td>142.027374</td>\n",
       "      <td>796.919983</td>\n",
       "      <td>27.063707</td>\n",
       "    </tr>\n",
       "  </tbody>\n",
       "</table>\n",
       "</div>"
      ],
      "text/plain": [
       "                 AAPL         IBM        AMZN       CSCO\n",
       "Date                                                    \n",
       "2017-01-03  27.548414  141.637695  753.669983  27.153379\n",
       "2017-01-04  27.517582  143.391296  757.179993  26.991968\n",
       "2017-01-05  27.657520  142.916901  780.450012  27.054739\n",
       "2017-01-06  27.965857  143.620056  795.989990  27.108545\n",
       "2017-01-09  28.222006  142.027374  796.919983  27.063707"
      ]
     },
     "execution_count": 73,
     "metadata": {},
     "output_type": "execute_result"
    }
   ],
   "source": [
    "stocks = ['AAPL','IBM','AMZN','CSCO']\n",
    "df = pd.DataFrame()\n",
    "for s in stocks:\n",
    "    df[s] = wb.DataReader(s, data_source = 'yahoo', start = start, end = end)['Adj Close']\n",
    "df.head()"
   ]
  },
  {
   "cell_type": "markdown",
   "metadata": {},
   "source": [
    "Mean daily returns"
   ]
  },
  {
   "cell_type": "code",
   "execution_count": 76,
   "metadata": {},
   "outputs": [
    {
     "data": {
      "text/html": [
       "<div>\n",
       "<style scoped>\n",
       "    .dataframe tbody tr th:only-of-type {\n",
       "        vertical-align: middle;\n",
       "    }\n",
       "\n",
       "    .dataframe tbody tr th {\n",
       "        vertical-align: top;\n",
       "    }\n",
       "\n",
       "    .dataframe thead th {\n",
       "        text-align: right;\n",
       "    }\n",
       "</style>\n",
       "<table border=\"1\" class=\"dataframe\">\n",
       "  <thead>\n",
       "    <tr style=\"text-align: right;\">\n",
       "      <th></th>\n",
       "      <th>Mean daily return</th>\n",
       "    </tr>\n",
       "  </thead>\n",
       "  <tbody>\n",
       "    <tr>\n",
       "      <td>AAPL</td>\n",
       "      <td>0.001414</td>\n",
       "    </tr>\n",
       "    <tr>\n",
       "      <td>IBM</td>\n",
       "      <td>-0.000038</td>\n",
       "    </tr>\n",
       "    <tr>\n",
       "      <td>AMZN</td>\n",
       "      <td>0.001341</td>\n",
       "    </tr>\n",
       "    <tr>\n",
       "      <td>CSCO</td>\n",
       "      <td>0.000825</td>\n",
       "    </tr>\n",
       "  </tbody>\n",
       "</table>\n",
       "</div>"
      ],
      "text/plain": [
       "      Mean daily return\n",
       "AAPL           0.001414\n",
       "IBM           -0.000038\n",
       "AMZN           0.001341\n",
       "CSCO           0.000825"
      ]
     },
     "execution_count": 76,
     "metadata": {},
     "output_type": "execute_result"
    }
   ],
   "source": [
    "mean_daily_ret = pd.DataFrame(df.pct_change(1).mean())\n",
    "mean_daily_ret.columns = ['Mean daily return']\n",
    "mean_daily_ret"
   ]
  },
  {
   "cell_type": "markdown",
   "metadata": {},
   "source": [
    "Correlation between the returns -> pearson correlation coefficients between each stock"
   ]
  },
  {
   "cell_type": "code",
   "execution_count": 77,
   "metadata": {},
   "outputs": [
    {
     "data": {
      "text/html": [
       "<div>\n",
       "<style scoped>\n",
       "    .dataframe tbody tr th:only-of-type {\n",
       "        vertical-align: middle;\n",
       "    }\n",
       "\n",
       "    .dataframe tbody tr th {\n",
       "        vertical-align: top;\n",
       "    }\n",
       "\n",
       "    .dataframe thead th {\n",
       "        text-align: right;\n",
       "    }\n",
       "</style>\n",
       "<table border=\"1\" class=\"dataframe\">\n",
       "  <thead>\n",
       "    <tr style=\"text-align: right;\">\n",
       "      <th></th>\n",
       "      <th>AAPL</th>\n",
       "      <th>IBM</th>\n",
       "      <th>AMZN</th>\n",
       "      <th>CSCO</th>\n",
       "    </tr>\n",
       "  </thead>\n",
       "  <tbody>\n",
       "    <tr>\n",
       "      <td>AAPL</td>\n",
       "      <td>1.000000</td>\n",
       "      <td>0.385997</td>\n",
       "      <td>0.601882</td>\n",
       "      <td>0.531938</td>\n",
       "    </tr>\n",
       "    <tr>\n",
       "      <td>IBM</td>\n",
       "      <td>0.385997</td>\n",
       "      <td>1.000000</td>\n",
       "      <td>0.367455</td>\n",
       "      <td>0.483571</td>\n",
       "    </tr>\n",
       "    <tr>\n",
       "      <td>AMZN</td>\n",
       "      <td>0.601882</td>\n",
       "      <td>0.367455</td>\n",
       "      <td>1.000000</td>\n",
       "      <td>0.520426</td>\n",
       "    </tr>\n",
       "    <tr>\n",
       "      <td>CSCO</td>\n",
       "      <td>0.531938</td>\n",
       "      <td>0.483571</td>\n",
       "      <td>0.520426</td>\n",
       "      <td>1.000000</td>\n",
       "    </tr>\n",
       "  </tbody>\n",
       "</table>\n",
       "</div>"
      ],
      "text/plain": [
       "          AAPL       IBM      AMZN      CSCO\n",
       "AAPL  1.000000  0.385997  0.601882  0.531938\n",
       "IBM   0.385997  1.000000  0.367455  0.483571\n",
       "AMZN  0.601882  0.367455  1.000000  0.520426\n",
       "CSCO  0.531938  0.483571  0.520426  1.000000"
      ]
     },
     "execution_count": 77,
     "metadata": {},
     "output_type": "execute_result"
    }
   ],
   "source": [
    "df.pct_change(1).corr()"
   ]
  },
  {
   "cell_type": "markdown",
   "metadata": {},
   "source": [
    "Logarithmic returns & Arithmetic returns -> from now on we will use Logarithmic returns, instead of arithmetic returns\n",
    "- they are almost the same, but most technical analysis techniques require detrending / normalizing the time series -> it is nicer to use log returns "
   ]
  },
  {
   "cell_type": "markdown",
   "metadata": {},
   "source": [
    "* Daily arithmetic returns"
   ]
  },
  {
   "cell_type": "code",
   "execution_count": 78,
   "metadata": {},
   "outputs": [
    {
     "data": {
      "text/html": [
       "<div>\n",
       "<style scoped>\n",
       "    .dataframe tbody tr th:only-of-type {\n",
       "        vertical-align: middle;\n",
       "    }\n",
       "\n",
       "    .dataframe tbody tr th {\n",
       "        vertical-align: top;\n",
       "    }\n",
       "\n",
       "    .dataframe thead th {\n",
       "        text-align: right;\n",
       "    }\n",
       "</style>\n",
       "<table border=\"1\" class=\"dataframe\">\n",
       "  <thead>\n",
       "    <tr style=\"text-align: right;\">\n",
       "      <th></th>\n",
       "      <th>AAPL</th>\n",
       "      <th>IBM</th>\n",
       "      <th>AMZN</th>\n",
       "      <th>CSCO</th>\n",
       "    </tr>\n",
       "    <tr>\n",
       "      <th>Date</th>\n",
       "      <th></th>\n",
       "      <th></th>\n",
       "      <th></th>\n",
       "      <th></th>\n",
       "    </tr>\n",
       "  </thead>\n",
       "  <tbody>\n",
       "    <tr>\n",
       "      <td>2017-01-03</td>\n",
       "      <td>NaN</td>\n",
       "      <td>NaN</td>\n",
       "      <td>NaN</td>\n",
       "      <td>NaN</td>\n",
       "    </tr>\n",
       "    <tr>\n",
       "      <td>2017-01-04</td>\n",
       "      <td>-0.001119</td>\n",
       "      <td>0.012381</td>\n",
       "      <td>0.004657</td>\n",
       "      <td>-0.005944</td>\n",
       "    </tr>\n",
       "    <tr>\n",
       "      <td>2017-01-05</td>\n",
       "      <td>0.005085</td>\n",
       "      <td>-0.003308</td>\n",
       "      <td>0.030732</td>\n",
       "      <td>0.002326</td>\n",
       "    </tr>\n",
       "    <tr>\n",
       "      <td>2017-01-06</td>\n",
       "      <td>0.011148</td>\n",
       "      <td>0.004920</td>\n",
       "      <td>0.019912</td>\n",
       "      <td>0.001989</td>\n",
       "    </tr>\n",
       "    <tr>\n",
       "      <td>2017-01-09</td>\n",
       "      <td>0.009159</td>\n",
       "      <td>-0.011090</td>\n",
       "      <td>0.001168</td>\n",
       "      <td>-0.001654</td>\n",
       "    </tr>\n",
       "  </tbody>\n",
       "</table>\n",
       "</div>"
      ],
      "text/plain": [
       "                AAPL       IBM      AMZN      CSCO\n",
       "Date                                              \n",
       "2017-01-03       NaN       NaN       NaN       NaN\n",
       "2017-01-04 -0.001119  0.012381  0.004657 -0.005944\n",
       "2017-01-05  0.005085 -0.003308  0.030732  0.002326\n",
       "2017-01-06  0.011148  0.004920  0.019912  0.001989\n",
       "2017-01-09  0.009159 -0.011090  0.001168 -0.001654"
      ]
     },
     "execution_count": 78,
     "metadata": {},
     "output_type": "execute_result"
    }
   ],
   "source": [
    "df.pct_change(1).head()"
   ]
  },
  {
   "cell_type": "markdown",
   "metadata": {},
   "source": [
    "* Log returns"
   ]
  },
  {
   "cell_type": "code",
   "execution_count": 81,
   "metadata": {},
   "outputs": [
    {
     "data": {
      "text/html": [
       "<div>\n",
       "<style scoped>\n",
       "    .dataframe tbody tr th:only-of-type {\n",
       "        vertical-align: middle;\n",
       "    }\n",
       "\n",
       "    .dataframe tbody tr th {\n",
       "        vertical-align: top;\n",
       "    }\n",
       "\n",
       "    .dataframe thead th {\n",
       "        text-align: right;\n",
       "    }\n",
       "</style>\n",
       "<table border=\"1\" class=\"dataframe\">\n",
       "  <thead>\n",
       "    <tr style=\"text-align: right;\">\n",
       "      <th></th>\n",
       "      <th>AAPL</th>\n",
       "      <th>IBM</th>\n",
       "      <th>AMZN</th>\n",
       "      <th>CSCO</th>\n",
       "    </tr>\n",
       "    <tr>\n",
       "      <th>Date</th>\n",
       "      <th></th>\n",
       "      <th></th>\n",
       "      <th></th>\n",
       "      <th></th>\n",
       "    </tr>\n",
       "  </thead>\n",
       "  <tbody>\n",
       "    <tr>\n",
       "      <td>2017-01-03</td>\n",
       "      <td>NaN</td>\n",
       "      <td>NaN</td>\n",
       "      <td>NaN</td>\n",
       "      <td>NaN</td>\n",
       "    </tr>\n",
       "    <tr>\n",
       "      <td>2017-01-04</td>\n",
       "      <td>-0.001120</td>\n",
       "      <td>0.012305</td>\n",
       "      <td>0.004646</td>\n",
       "      <td>-0.005962</td>\n",
       "    </tr>\n",
       "    <tr>\n",
       "      <td>2017-01-05</td>\n",
       "      <td>0.005073</td>\n",
       "      <td>-0.003314</td>\n",
       "      <td>0.030270</td>\n",
       "      <td>0.002323</td>\n",
       "    </tr>\n",
       "    <tr>\n",
       "      <td>2017-01-06</td>\n",
       "      <td>0.011087</td>\n",
       "      <td>0.004908</td>\n",
       "      <td>0.019716</td>\n",
       "      <td>0.001987</td>\n",
       "    </tr>\n",
       "    <tr>\n",
       "      <td>2017-01-09</td>\n",
       "      <td>0.009118</td>\n",
       "      <td>-0.011151</td>\n",
       "      <td>0.001168</td>\n",
       "      <td>-0.001655</td>\n",
       "    </tr>\n",
       "  </tbody>\n",
       "</table>\n",
       "</div>"
      ],
      "text/plain": [
       "                AAPL       IBM      AMZN      CSCO\n",
       "Date                                              \n",
       "2017-01-03       NaN       NaN       NaN       NaN\n",
       "2017-01-04 -0.001120  0.012305  0.004646 -0.005962\n",
       "2017-01-05  0.005073 -0.003314  0.030270  0.002323\n",
       "2017-01-06  0.011087  0.004908  0.019716  0.001987\n",
       "2017-01-09  0.009118 -0.011151  0.001168 -0.001655"
      ]
     },
     "execution_count": 81,
     "metadata": {},
     "output_type": "execute_result"
    }
   ],
   "source": [
    "log_ret = np.log(df/df.shift(1))\n",
    "log_ret.head()"
   ]
  },
  {
   "cell_type": "code",
   "execution_count": 83,
   "metadata": {},
   "outputs": [
    {
     "data": {
      "image/png": "[encoded data removed]",
      "text/plain": [
       "<Figure size 864x576 with 4 Axes>"
      ]
     },
     "metadata": {
      "needs_background": "light"
     },
     "output_type": "display_data"
    }
   ],
   "source": [
    "log_ret.hist(bins = 100, figsize = (12,8))\n",
    "plt.tight_layout()"
   ]
  },
  {
   "cell_type": "markdown",
   "metadata": {},
   "source": [
    "Mean log return"
   ]
  },
  {
   "cell_type": "code",
   "execution_count": 84,
   "metadata": {},
   "outputs": [
    {
     "data": {
      "text/plain": [
       "AAPL    0.001293\n",
       "IBM    -0.000122\n",
       "AMZN    0.001191\n",
       "CSCO    0.000723\n",
       "dtype: float64"
      ]
     },
     "execution_count": 84,
     "metadata": {},
     "output_type": "execute_result"
    }
   ],
   "source": [
    "log_ret.mean()"
   ]
  },
  {
   "cell_type": "markdown",
   "metadata": {},
   "source": [
    "Annualized Covariance of the columns"
   ]
  },
  {
   "cell_type": "code",
   "execution_count": 103,
   "metadata": {},
   "outputs": [
    {
     "data": {
      "text/html": [
       "<div>\n",
       "<style scoped>\n",
       "    .dataframe tbody tr th:only-of-type {\n",
       "        vertical-align: middle;\n",
       "    }\n",
       "\n",
       "    .dataframe tbody tr th {\n",
       "        vertical-align: top;\n",
       "    }\n",
       "\n",
       "    .dataframe thead th {\n",
       "        text-align: right;\n",
       "    }\n",
       "</style>\n",
       "<table border=\"1\" class=\"dataframe\">\n",
       "  <thead>\n",
       "    <tr style=\"text-align: right;\">\n",
       "      <th></th>\n",
       "      <th>AAPL</th>\n",
       "      <th>IBM</th>\n",
       "      <th>AMZN</th>\n",
       "      <th>CSCO</th>\n",
       "    </tr>\n",
       "  </thead>\n",
       "  <tbody>\n",
       "    <tr>\n",
       "      <td>AAPL</td>\n",
       "      <td>0.061148</td>\n",
       "      <td>0.019813</td>\n",
       "      <td>0.040774</td>\n",
       "      <td>0.029905</td>\n",
       "    </tr>\n",
       "    <tr>\n",
       "      <td>IBM</td>\n",
       "      <td>0.019813</td>\n",
       "      <td>0.042645</td>\n",
       "      <td>0.020970</td>\n",
       "      <td>0.022678</td>\n",
       "    </tr>\n",
       "    <tr>\n",
       "      <td>AMZN</td>\n",
       "      <td>0.040774</td>\n",
       "      <td>0.020970</td>\n",
       "      <td>0.074970</td>\n",
       "      <td>0.032451</td>\n",
       "    </tr>\n",
       "    <tr>\n",
       "      <td>CSCO</td>\n",
       "      <td>0.029905</td>\n",
       "      <td>0.022678</td>\n",
       "      <td>0.032451</td>\n",
       "      <td>0.051842</td>\n",
       "    </tr>\n",
       "  </tbody>\n",
       "</table>\n",
       "</div>"
      ],
      "text/plain": [
       "          AAPL       IBM      AMZN      CSCO\n",
       "AAPL  0.061148  0.019813  0.040774  0.029905\n",
       "IBM   0.019813  0.042645  0.020970  0.022678\n",
       "AMZN  0.040774  0.020970  0.074970  0.032451\n",
       "CSCO  0.029905  0.022678  0.032451  0.051842"
      ]
     },
     "execution_count": 103,
     "metadata": {},
     "output_type": "execute_result"
    }
   ],
   "source": [
    "log_ret.cov() * 252"
   ]
  },
  {
   "cell_type": "markdown",
   "metadata": {},
   "source": [
    "# Single run for some random allocations"
   ]
  },
  {
   "cell_type": "code",
   "execution_count": 86,
   "metadata": {},
   "outputs": [
    {
     "data": {
      "text/plain": [
       "Index(['AAPL', 'IBM', 'AMZN', 'CSCO'], dtype='object')"
      ]
     },
     "execution_count": 86,
     "metadata": {},
     "output_type": "execute_result"
    }
   ],
   "source": [
    "df.columns"
   ]
  },
  {
   "cell_type": "code",
   "execution_count": 92,
   "metadata": {},
   "outputs": [
    {
     "name": "stdout",
     "output_type": "stream",
     "text": [
      "Random weights\n"
     ]
    },
    {
     "data": {
      "text/plain": [
       "array([0.51639863, 0.57066759, 0.02847423, 0.17152166])"
      ]
     },
     "execution_count": 92,
     "metadata": {},
     "output_type": "execute_result"
    }
   ],
   "source": [
    "np.random.seed(101)    #in order to get the same random numbers every time\n",
    "print('Random weights')\n",
    "weights = np.array(np.random.random(4))\n",
    "weights"
   ]
  },
  {
   "cell_type": "code",
   "execution_count": 96,
   "metadata": {},
   "outputs": [
    {
     "name": "stdout",
     "output_type": "stream",
     "text": [
      "Rebalanced weights\n"
     ]
    },
    {
     "data": {
      "text/plain": [
       "array([0.40122278, 0.44338777, 0.02212343, 0.13326603])"
      ]
     },
     "execution_count": 96,
     "metadata": {},
     "output_type": "execute_result"
    }
   ],
   "source": [
    "print ('Rebalanced weights')\n",
    "weights = weights / np.sum(weights)\n",
    "weights"
   ]
  },
  {
   "cell_type": "markdown",
   "metadata": {},
   "source": [
    " * Expected Portfolio Return"
   ]
  },
  {
   "cell_type": "code",
   "execution_count": 97,
   "metadata": {},
   "outputs": [
    {
     "data": {
      "text/plain": [
       "0.14796889378029413"
      ]
     },
     "execution_count": 97,
     "metadata": {},
     "output_type": "execute_result"
    }
   ],
   "source": [
    "exp_ret = np.sum((log_ret.mean() * weights)*252)\n",
    "exp_ret"
   ]
  },
  {
   "cell_type": "markdown",
   "metadata": {},
   "source": [
    "* Expected Volatility"
   ]
  },
  {
   "cell_type": "code",
   "execution_count": 98,
   "metadata": {},
   "outputs": [
    {
     "data": {
      "text/plain": [
       "0.1828626478616836"
      ]
     },
     "execution_count": 98,
     "metadata": {},
     "output_type": "execute_result"
    }
   ],
   "source": [
    "exp_vol = np.sqrt(np.dot(weights.T,np.dot(log_ret.cov()*252,weights)))\n",
    "exp_vol"
   ]
  },
  {
   "cell_type": "markdown",
   "metadata": {},
   "source": [
    "* Sharpe Ratio"
   ]
  },
  {
   "cell_type": "code",
   "execution_count": 105,
   "metadata": {},
   "outputs": [],
   "source": [
    "SR = exp_ret / exp_vol"
   ]
  },
  {
   "cell_type": "code",
   "execution_count": 106,
   "metadata": {},
   "outputs": [
    {
     "data": {
      "text/plain": [
       "0.8091805270818186"
      ]
     },
     "execution_count": 106,
     "metadata": {},
     "output_type": "execute_result"
    }
   ],
   "source": [
    "SR"
   ]
  },
  {
   "cell_type": "markdown",
   "metadata": {},
   "source": [
    "# Simulating Thousands of Possible Allocations (randomly)"
   ]
  },
  {
   "cell_type": "markdown",
   "metadata": {},
   "source": [
    "- all the above code, repeated thousands of times"
   ]
  },
  {
   "cell_type": "code",
   "execution_count": 114,
   "metadata": {},
   "outputs": [],
   "source": [
    "np.random.seed(101)\n",
    "num_portf = 5000\n",
    "all_weights = np.zeros((num_portf, len(df.columns)))   #rows = number of portfolios; columns = number of stocks in df\n",
    "ret_array = np.zeros(num_portf)   #an array to hold the returns\n",
    "vol_array = np.zeros(num_portf)   #an array to hold the volatilities\n",
    "sharpe_array = np.zeros(num_portf)  #an array for sharpe ratios\n",
    "\n",
    "for ind in range(num_portf):\n",
    "    weights = np.array(np.random.random(4))\n",
    "    weights /= np.sum(weights)\n",
    "    #Save the weights\n",
    "    all_weights[ind,:] = weights    #save the weights for the first simulation, on the first row\n",
    "    \n",
    "    exp_ret = np.sum((log_ret.mean() * weights) * 252)\n",
    "    #Save the expected returns\n",
    "    ret_array[ind] = exp_ret\n",
    "    \n",
    "    exp_volat = np.sqrt(np.dot(weights.T, np.dot(log_ret.cov()*252,weights)))\n",
    "    #Save the expected volatilities\n",
    "    vol_array[ind] = exp_volat\n",
    "    \n",
    "    SR = exp_ret / exp_volat\n",
    "    #Save the SR\n",
    "    sharpe_array[ind] = ret_array[ind] / vol_array[ind]"
   ]
  },
  {
   "cell_type": "markdown",
   "metadata": {},
   "source": [
    "* The best SR"
   ]
  },
  {
   "cell_type": "code",
   "execution_count": 115,
   "metadata": {},
   "outputs": [
    {
     "data": {
      "text/plain": [
       "1.3630249206224059"
      ]
     },
     "execution_count": 115,
     "metadata": {},
     "output_type": "execute_result"
    }
   ],
   "source": [
    "sharpe_array.max()"
   ]
  },
  {
   "cell_type": "markdown",
   "metadata": {},
   "source": [
    "* The position of the best SR"
   ]
  },
  {
   "cell_type": "code",
   "execution_count": 117,
   "metadata": {},
   "outputs": [
    {
     "data": {
      "text/plain": [
       "365"
      ]
     },
     "execution_count": 117,
     "metadata": {},
     "output_type": "execute_result"
    }
   ],
   "source": [
    "sharpe_array.argmax()"
   ]
  },
  {
   "cell_type": "markdown",
   "metadata": {},
   "source": [
    "* The weights situated at the index of the best SR -> the optimal allocation"
   ]
  },
  {
   "cell_type": "code",
   "execution_count": 118,
   "metadata": {},
   "outputs": [
    {
     "data": {
      "text/plain": [
       "array([0.58862665, 0.00114527, 0.37684942, 0.03337866])"
      ]
     },
     "execution_count": 118,
     "metadata": {},
     "output_type": "execute_result"
    }
   ],
   "source": [
    "all_weights[365,:]"
   ]
  },
  {
   "cell_type": "markdown",
   "metadata": {},
   "source": [
    "* Plot the data -> get the volatility and the return colored by Sharpe Ratio"
   ]
  },
  {
   "cell_type": "code",
   "execution_count": 119,
   "metadata": {},
   "outputs": [
    {
     "data": {
      "text/plain": [
       "Text(0, 0.5, 'Return')"
      ]
     },
     "execution_count": 119,
     "metadata": {},
     "output_type": "execute_result"
    },
    {
     "data": {
      "image/png": "[encoded data removed]",
      "text/plain": [
       "<Figure size 864x576 with 2 Axes>"
      ]
     },
     "metadata": {
      "needs_background": "light"
     },
     "output_type": "display_data"
    }
   ],
   "source": [
    "plt.figure(figsize = (12,8))\n",
    "plt.scatter(vol_array, ret_array, c = sharpe_array, cmap = 'plasma')\n",
    "plt.colorbar(label = 'Sharpe Ratio')\n",
    "plt.xlabel('Volatility')\n",
    "plt.ylabel('Return')"
   ]
  },
  {
   "cell_type": "markdown",
   "metadata": {},
   "source": [
    "* Put a red dot on the maximum Sharpe Ratio"
   ]
  },
  {
   "cell_type": "code",
   "execution_count": 120,
   "metadata": {},
   "outputs": [
    {
     "data": {
      "text/plain": [
       "(0.31087422264294, 0.2280766976006453)"
      ]
     },
     "execution_count": 120,
     "metadata": {},
     "output_type": "execute_result"
    }
   ],
   "source": [
    "max_sr_ret = ret_array[sharpe_array.argmax()]\n",
    "max_sr_vol = vol_array[sharpe_array.argmax()]\n",
    "(max_sr_ret, max_sr_vol)"
   ]
  },
  {
   "cell_type": "code",
   "execution_count": 121,
   "metadata": {},
   "outputs": [
    {
     "data": {
      "text/plain": [
       "<matplotlib.collections.PathCollection at 0x223c3d45a88>"
      ]
     },
     "execution_count": 121,
     "metadata": {},
     "output_type": "execute_result"
    },
    {
     "data": {
      "image/png": "[encoded data removed]",
      "text/plain": [
       "<Figure size 864x576 with 2 Axes>"
      ]
     },
     "metadata": {
      "needs_background": "light"
     },
     "output_type": "display_data"
    }
   ],
   "source": [
    "plt.figure(figsize = (12,8))\n",
    "plt.scatter(vol_array, ret_array, c = sharpe_array, cmap = 'plasma')\n",
    "plt.colorbar(label = 'Sharpe Ratio')\n",
    "plt.xlabel('Volatility')\n",
    "plt.ylabel('Return')\n",
    "\n",
    "plt.scatter(max_sr_vol, max_sr_ret, c='red', s = 50, edgecolors = 'black')"
   ]
  },
  {
   "cell_type": "markdown",
   "metadata": {},
   "source": [
    "# 2.2 Move on from random allocation to performing MATHEMATICAL OPTIMIZATION"
   ]
  },
  {
   "cell_type": "markdown",
   "metadata": {},
   "source": [
    "* Create a function that takes in some weights and returns an array of the returns, volatilities and sharpe ratios"
   ]
  },
  {
   "cell_type": "code",
   "execution_count": 122,
   "metadata": {},
   "outputs": [],
   "source": [
    "def get_ret_vol_sr(weights):\n",
    "    #make sure the weights are in a numpy array\n",
    "    weights = np.array(weights)\n",
    "    \n",
    "    ret = np.sum(log_ret.mean() * weights) * 252\n",
    "    \n",
    "    vol = np.sqrt(np.dot(weights.T, np.dot(log_ret.cov()*252, weights)))\n",
    "    \n",
    "    sr = ret/vol\n",
    "    \n",
    "    return np.array([ret, vol, sr])"
   ]
  },
  {
   "cell_type": "code",
   "execution_count": 123,
   "metadata": {},
   "outputs": [],
   "source": [
    "from scipy.optimize import minimize"
   ]
  },
  {
   "cell_type": "markdown",
   "metadata": {},
   "source": [
    "* Create some helper functions"
   ]
  },
  {
   "cell_type": "code",
   "execution_count": 124,
   "metadata": {},
   "outputs": [],
   "source": [
    "#first, create a function that takes some weight allocations, and returns the negative sharpe ratio \n",
    "#(minimize the negative sharpe ratio, by multiplying the sharpe ratio with -1)\n",
    "\n",
    "def neg_sharpe(weights):\n",
    "    return get_ret_vol_sr(weights)[2] * -1"
   ]
  },
  {
   "cell_type": "code",
   "execution_count": 125,
   "metadata": {},
   "outputs": [],
   "source": [
    "#next we have constraints\n",
    "#one of them is check_sum; as the allocations have to add up to 1\n",
    "#we create a function that returns 0 if the sum of the weights 1; if not, it returns how far we are from 1\n",
    "\n",
    "def check_sum(weights):\n",
    "    return np.sum(weights) - 1"
   ]
  },
  {
   "cell_type": "code",
   "execution_count": 126,
   "metadata": {},
   "outputs": [],
   "source": [
    "#create the variable constraints, which is a tuple with a dictionary inside \n",
    "\n",
    "cons = ({'type':'eq','fun':check_sum})   #eq = equation"
   ]
  },
  {
   "cell_type": "code",
   "execution_count": 127,
   "metadata": {},
   "outputs": [],
   "source": [
    "#we also create the variable bounds, which is a tuple of tuples \n",
    "\n",
    "bounds = ((0,1),(0,1),(0,1),(0,1))    #the bounds of the weights have to be between 0 and 1"
   ]
  },
  {
   "cell_type": "code",
   "execution_count": 128,
   "metadata": {},
   "outputs": [],
   "source": [
    "#start with an initial guess, of equal allocation \n",
    "\n",
    "init_guess = [0.5, 0.5, 0.5, 0.5]"
   ]
  },
  {
   "cell_type": "code",
   "execution_count": 129,
   "metadata": {},
   "outputs": [],
   "source": [
    "#put all these in the minimization function\n",
    "\n",
    "opt_results = minimize(neg_sharpe, init_guess, method = 'SLSQP', bounds = bounds, constraints = cons )    \n",
    "\n",
    "#first arg is the function we want to minimize\n",
    "#third arg is an algorithm we can use to minimize the function; SLSQP is used for most basic tasks"
   ]
  },
  {
   "cell_type": "code",
   "execution_count": 130,
   "metadata": {},
   "outputs": [
    {
     "data": {
      "text/plain": [
       "     fun: -1.37076277874608\n",
       "     jac: array([ 1.91062689e-04,  6.48237497e-01, -4.62919474e-04,  8.72164965e-05])\n",
       " message: 'Optimization terminated successfully.'\n",
       "    nfev: 36\n",
       "     nit: 6\n",
       "    njev: 6\n",
       "  status: 0\n",
       " success: True\n",
       "       x: array([7.02950202e-01, 2.10281011e-16, 2.91232045e-01, 5.81775271e-03])"
      ]
     },
     "execution_count": 130,
     "metadata": {},
     "output_type": "execute_result"
    }
   ],
   "source": [
    "opt_results"
   ]
  },
  {
   "cell_type": "code",
   "execution_count": 131,
   "metadata": {},
   "outputs": [
    {
     "data": {
      "text/plain": [
       "array([7.02950202e-01, 2.10281011e-16, 2.91232045e-01, 5.81775271e-03])"
      ]
     },
     "execution_count": 131,
     "metadata": {},
     "output_type": "execute_result"
    }
   ],
   "source": [
    "#to find the actual allocation\n",
    "opt_results.x"
   ]
  },
  {
   "cell_type": "code",
   "execution_count": 132,
   "metadata": {},
   "outputs": [
    {
     "data": {
      "text/plain": [
       "array([0.3174302 , 0.23157194, 1.37076278])"
      ]
     },
     "execution_count": 132,
     "metadata": {},
     "output_type": "execute_result"
    }
   ],
   "source": [
    "#obtain the return, volatility and sharpe ratio\n",
    "get_ret_vol_sr(opt_results.x)"
   ]
  },
  {
   "cell_type": "markdown",
   "metadata": {},
   "source": [
    "* Now we have our optimal results; \n",
    "* next, we will check all optimal portfolios -> the Efficient Frontier (set of optimal portfolios that offer the highest \n",
    "return for a given risk)"
   ]
  },
  {
   "cell_type": "code",
   "execution_count": 133,
   "metadata": {},
   "outputs": [],
   "source": [
    "#frontier values -> from 0 to 0.3, as the returns are not bigger than 0.3\n",
    "frontier_y = np.linspace(0, 0.3, 100)   #100 points from 0 to 0.3"
   ]
  },
  {
   "cell_type": "code",
   "execution_count": 134,
   "metadata": {},
   "outputs": [],
   "source": [
    "#minimize the volatility\n",
    "def minimize_volatility(weights):\n",
    "    return get_ret_vol_sr(weights)[1]   #no need to multiply by -1 "
   ]
  },
  {
   "cell_type": "code",
   "execution_count": 136,
   "metadata": {},
   "outputs": [],
   "source": [
    "frontier_volatility = []\n",
    "#for each possible return on the y axis, check the constraints: first checks the sum to be 1; \n",
    "#the second constraint: for some weights, we get the first item of get_ret_vol_sr, which is the returns, and substract\n",
    "#the possible return -> this is because in our frontier we have the maximum returns \n",
    "for possible_return in frontier_y:\n",
    "    cons = ({'type':'eq','fun':check_sum},\n",
    "           {'type':'eq','fun':lambda w: get_ret_vol_sr(w)[0] - possible_return})\n",
    "    \n",
    "    result = minimize(minimize_volatility, init_guess, method = 'SLSQP', bounds = bounds, constraints = cons)\n",
    "    \n",
    "    #append the result to the frontier volatility list\n",
    "    frontier_volatility.append(result['fun']) "
   ]
  },
  {
   "cell_type": "code",
   "execution_count": 137,
   "metadata": {},
   "outputs": [
    {
     "data": {
      "text/plain": [
       "[<matplotlib.lines.Line2D at 0x223c2450e08>]"
      ]
     },
     "execution_count": 137,
     "metadata": {},
     "output_type": "execute_result"
    },
    {
     "data": {
      "image/png": "[encoded data removed]",
      "text/plain": [
       "<Figure size 864x576 with 2 Axes>"
      ]
     },
     "metadata": {
      "needs_background": "light"
     },
     "output_type": "display_data"
    }
   ],
   "source": [
    "plt.figure(figsize=(12,8))\n",
    "plt.scatter(vol_array, ret_array, c = sharpe_array, cmap = 'plasma')\n",
    "plt.colorbar(label = 'Sharpe Ratio')\n",
    "plt.xlabel('Volatility')\n",
    "plt.ylabel('return')\n",
    "\n",
    "plt.scatter(max_sr_vol, max_sr_ret, c = 'red', s = 50, edgecolors = 'black')\n",
    "plt.plot(frontier_volatility, frontier_y, 'g--', linewidth = 3)"
   ]
  },
  {
   "cell_type": "code",
   "execution_count": null,
   "metadata": {},
   "outputs": [],
   "source": [
    "- we have plotted a line that represents: for each desired level of risk, the best return "
   ]
  }
 ],
 "metadata": {
  "kernelspec": {
   "display_name": "Python 3",
   "language": "python",
   "name": "python3"
  },
  "language_info": {
   "codemirror_mode": {
    "name": "ipython",
    "version": 3
   },
   "file_extension": ".py",
   "mimetype": "text/x-python",
   "name": "python",
   "nbconvert_exporter": "python",
   "pygments_lexer": "ipython3",
   "version": "3.7.4"
  }
 },
 "nbformat": 4,
 "nbformat_minor": 2
}
